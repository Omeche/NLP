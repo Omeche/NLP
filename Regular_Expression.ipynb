{
 "cells": [
  {
   "cell_type": "markdown",
   "metadata": {},
   "source": [
    "# IMPORT THE NECESSARY LIBRARIES"
   ]
  },
  {
   "cell_type": "code",
   "execution_count": null,
   "metadata": {},
   "outputs": [],
   "source": [
    "import re\n",
    "\n",
    "import warnings\n",
    "warnings.filterwarnings('ignore')\n"
   ]
  },
  {
   "cell_type": "markdown",
   "metadata": {},
   "source": [
    "# Extract the phone numbers from this text"
   ]
  },
  {
   "cell_type": "code",
   "execution_count": null,
   "metadata": {},
   "outputs": [],
   "source": [
    "text = '''\n",
    "David Benson's phone number is 6533487621. call him if you need any informtion on loan eligibility. \n",
    "His Net worth is valued at 30 billion.David CFO's number- (999)-123-1365\"\n",
    "'''\n",
    "pattern = \"\\(\\d{3}\\)-\\d{3}-\\d{4}|\\d{10}\"\n",
    "\n",
    "matches = re.findall(pattern,text)\n",
    "matches"
   ]
  },
  {
   "cell_type": "markdown",
   "metadata": {},
   "source": [
    "# Extract titles from text"
   ]
  },
  {
   "cell_type": "code",
   "execution_count": null,
   "metadata": {},
   "outputs": [],
   "source": [
    "\n",
    "text = ''''\n",
    "Note 1 - Overview\n",
    "Tesla, Inc. (“Tesla”, the “Company”, “we”, “us” or “our”) was incorporated in the State of Delaware on July 1, 2003. We design, develop, manufacture and sell high-performance fully electric vehicles and design, manufacture, install and sell solar energy generation and energy storage\n",
    "products. Our Chief Executive Officer, as the chief operating decision maker (“CODM”), organizes our company, manages resource allocations and measures performance among two operating and reportable segments: (i) automotive and (ii) energy generation and storage.\n",
    "Beginning in the first quarter of 2021, there has been a trend in many parts of the world of increasing availability and administration of vaccines\n",
    "against COVID-19, as well as an easing of restrictions on social, business, travel and government activities and functions. On the other hand, infection\n",
    "rates and regulations continue to fluctuate in various regions and there are ongoing global impacts resulting from the pandemic, including challenges\n",
    "and increases in costs for logistics and supply chains, such as increased port congestion, intermittent supplier delays and a shortfall of semiconductor\n",
    "supply. We have also previously been affected by temporary manufacturing closures, employment and compensation adjustments and impediments to\n",
    "administrative activities supporting our product deliveries and deployments.\n",
    "Note 2 - Summary of Significant Accounting Policies\n",
    "Unaudited Interim Financial Statements\n",
    "The consolidated balance sheet as of September 30, 2021, the consolidated statements of operations, the consolidated statements of\n",
    "comprehensive income, the consolidated statements of redeemable noncontrolling interests and equity for the three and nine months ended September\n",
    "30, 2021 and 2020 and the consolidated statements of cash flows for the nine months ended September 30, 2021 and 2020, as well as other information\n",
    "disclosed in the accompanying notes, are unaudited. The consolidated balance sheet as of December 31, 2020 was derived from the audited\n",
    "consolidated financial statements as of that date. The interim consolidated financial statements and the accompanying notes should be read in\n",
    "conjunction with the annual consolidated financial statements and the accompanying notes contained in our Annual Report on Form 10-K for the year\n",
    "ended December 31, 2020.\n",
    "'''\n",
    "\n",
    "pattern = \"Note \\d - ([^\\n]*)\"\n",
    "\n",
    "matches = re.findall(pattern,text)\n",
    "matches"
   ]
  },
  {
   "cell_type": "markdown",
   "metadata": {},
   "source": [
    "# Extracting financial periods from a company's financial reporting"
   ]
  },
  {
   "cell_type": "code",
   "execution_count": null,
   "metadata": {},
   "outputs": [],
   "source": [
    "\n",
    "text = '''\n",
    "The gross cost of operating lease vehicles in FY2023 Q1 was $7.65 billion.\n",
    "In previous quarter i.e. FY2022 Q4 it was $4 billion. \n",
    "FY2020 Q5\n",
    "'''\n",
    "\n",
    "pattern = \"FY\\d{4} Q[1-4]\"\n",
    "\n",
    "matches = re.findall(pattern,text)\n",
    "matches"
   ]
  },
  {
   "cell_type": "markdown",
   "metadata": {},
   "source": [
    "# If there is a lower case then you can use flags"
   ]
  },
  {
   "cell_type": "code",
   "execution_count": null,
   "metadata": {},
   "outputs": [],
   "source": [
    "\n",
    "text = '''\n",
    "The gross cost of operating lease vehicles in FY2023 Q1 was $7.65 billion.\n",
    "In previous quarter i.e. FY2022 Q4 it was $4 billion.\n",
    "FY2020 Q5\n",
    "'''\n",
    "\n",
    "pattern = \"FY\\d{4} Q[1-4]\"\n",
    "\n",
    "matches = re.findall(pattern,text,flags=re.IGNORECASE)\n",
    "matches\n"
   ]
  },
  {
   "cell_type": "markdown",
   "metadata": {},
   "source": [
    "# Extract only financial numbers"
   ]
  },
  {
   "cell_type": "code",
   "execution_count": null,
   "metadata": {},
   "outputs": [],
   "source": [
    "\n",
    "text = '''\n",
    "Amaxon's gross cost of operating lease vehicles in FY2023 Q1 was $7.65 billion.\n",
    "In previous quarter i.e. FY2022 Q4 it was $4 billion.\n",
    "'''\n",
    "pattern  = \"\\$[0-9\\.]+\"\n",
    "matches = re.findall(pattern,text)\n",
    "matches"
   ]
  },
  {
   "cell_type": "markdown",
   "metadata": {},
   "source": [
    "# Displaying the financial figures without the dollar sign"
   ]
  },
  {
   "cell_type": "code",
   "execution_count": null,
   "metadata": {},
   "outputs": [],
   "source": [
    "pattern = \"\\$([0-9\\.]+)\"\n",
    "matches = re.findall(pattern,text)\n",
    "matches"
   ]
  },
  {
   "cell_type": "markdown",
   "metadata": {},
   "source": [
    "# Extract both periods and financial numbers"
   ]
  },
  {
   "cell_type": "code",
   "execution_count": null,
   "metadata": {},
   "outputs": [],
   "source": [
    "text = '''\n",
    "Amaxon's gross cost of operating lease vehicles in FY2023 Q1 was $7.65 billion.\n",
    "In previous quarter i.e. FY2022 Q4 it was $4 billion.\n",
    "'''\n",
    "\n",
    "pattern = \"FY(\\d{4} Q[1-4])[^\\$]+\\$([0-9\\.]+)\"\n",
    "matches = re.findall(pattern,text)\n",
    "matches"
   ]
  },
  {
   "cell_type": "markdown",
   "metadata": {},
   "source": [
    "# Search method finds the first occurence"
   ]
  },
  {
   "cell_type": "code",
   "execution_count": null,
   "metadata": {},
   "outputs": [],
   "source": [
    "text = '''\n",
    "Amaxon's gross cost of operating lease vehicles in FY2023 Q1 was $7.65 billion.\n",
    "In previous quarter i.e. FY2022 Q4 it was $4 billion.\n",
    "'''\n",
    "\n",
    "pattern = \"FY(\\d{4} Q[1-4])[^\\$]+\\$([0-9\\.]+)\"\n",
    "matches = re.search(pattern,text)\n",
    "matches"
   ]
  },
  {
   "cell_type": "code",
   "execution_count": null,
   "metadata": {},
   "outputs": [],
   "source": [
    "matches.groups()"
   ]
  },
  {
   "cell_type": "markdown",
   "metadata": {},
   "source": [
    "# Extract all twitter handles from following text."
   ]
  },
  {
   "cell_type": "code",
   "execution_count": null,
   "metadata": {},
   "outputs": [],
   "source": [
    " text = '''\n",
    "Follow my friend Daniel on twitter here: https://twitter.com/dannyboy, more information \n",
    "on his products can be found at https://www.dannytech.com/. Also here are leading influencers \n",
    "for trade related news,\n",
    "https://twitter.com/princemoise\n",
    "https://twitter.com/tunde_bosun\n",
    "https://twitter.com/theo_7_mint\n",
    "'''\n",
    "\n",
    "pattern = \"twitter.com\\/([A-Za-z_[0-9]+)\"\n",
    "matches = re.findall(pattern,text)\n",
    "matches"
   ]
  },
  {
   "cell_type": "markdown",
   "metadata": {},
   "source": [
    "# Extract Concentration Risk Types"
   ]
  },
  {
   "cell_type": "code",
   "execution_count": null,
   "metadata": {},
   "outputs": [],
   "source": [
    "text = '''\n",
    "Concentration of Risk: Credit Risk\n",
    "Financial instruments that potentially subject us to a concentration of credit risk consist of cash, cash equivalents, marketable securities,\n",
    "restricted cash, accounts receivable, convertible note hedges, and interest rate swaps. Our cash balances are primarily invested in money market funds\n",
    "or on deposit at high credit quality financial institutions in the U.S. These deposits are typically in excess of insured limits. As of September 30, 2021\n",
    "and December 31, 2020, no entity represented 10% or more of our total accounts receivable balance. The risk of concentration for our convertible note\n",
    "hedges and interest rate swaps is mitigated by transacting with several highly-rated multinational banks.\n",
    "Concentration of Risk: Supply Risk\n",
    "We are dependent on our suppliers, including single source suppliers, and the inability of these suppliers to deliver necessary components of our\n",
    "products in a timely manner at prices, quality levels and volumes acceptable to us, or our inability to efficiently manage these components from these\n",
    "suppliers, could have a material adverse effect on our business, prospects, financial condition and operating results.\n",
    "'''\n",
    "\n",
    "pattern = \"Concentration of Risk: ([^\\n]+)\"\n",
    "matches = re.findall(pattern,text)\n",
    "matches"
   ]
  },
  {
   "cell_type": "markdown",
   "metadata": {},
   "source": [
    "# Extract Quarterly and Semi Annual periods"
   ]
  },
  {
   "cell_type": "code",
   "execution_count": null,
   "metadata": {},
   "outputs": [],
   "source": [
    "text = '''\n",
    "Tesla's gross cost of operating lease vehicles in FY2021 Q1 was $4.85 billion.\n",
    "BMW's gross cost of operating vehicles in FY2021 S1 was $8 billion.\n",
    "'''\n",
    "pattern = \"FY(\\d{4} (?:Q[1-4]|S[1-2]))\"\n",
    "matches = re.findall(pattern,text)\n",
    "matches"
   ]
  },
  {
   "cell_type": "code",
   "execution_count": null,
   "metadata": {},
   "outputs": [],
   "source": [
    "chat1 = 'user: you ask lot of questions 😠 0903421465, dave@gmail.com'\n",
    "chat2 = 'user: here it is: (123)-598-1232, rose@yahoo.com'\n",
    "chat3 = 'user: yes, phone: 3211109081 email: peace@gmail.com'"
   ]
  },
  {
   "cell_type": "markdown",
   "metadata": {},
   "source": [
    "# Define a function to display the information extracted "
   ]
  },
  {
   "cell_type": "code",
   "execution_count": null,
   "metadata": {},
   "outputs": [],
   "source": [
    "def extract_pattern(pattern,text):\n",
    "    matches = re.findall(pattern,text)\n",
    "    if matches:\n",
    "        return matches[0]\n",
    "    "
   ]
  },
  {
   "cell_type": "markdown",
   "metadata": {},
   "source": [
    "# Extract the phone numbers"
   ]
  },
  {
   "cell_type": "code",
   "execution_count": null,
   "metadata": {},
   "outputs": [],
   "source": [
    "print(extract_pattern(\"\\d{10}|\\(\\d{3}\\)-\\d{3}-\\d{4}\", chat1))\n",
    "print(extract_pattern(\"\\d{10}|\\(\\d{3}\\)-\\d{3}-\\d{4}\", chat2))\n",
    "print(extract_pattern(\"\\d{10}|\\(\\d{3}\\)-\\d{3}-\\d{4}\", chat3))\n"
   ]
  },
  {
   "cell_type": "markdown",
   "metadata": {},
   "source": [
    "# Extract the email id"
   ]
  },
  {
   "cell_type": "code",
   "execution_count": null,
   "metadata": {},
   "outputs": [],
   "source": [
    "print(extract_pattern(\"[a-zA-Z0-9]*@[a-zA-Z0-9]*\\.com\",chat1))\n",
    "print(extract_pattern(\"[a-zA-Z0-9]*@[a-zA-Z0-9]*\\.com\",chat2))\n",
    "print(extract_pattern(\"[a-zA-Z0-9]*@[a-zA-Z0-9]*\\.com\",chat3))"
   ]
  },
  {
   "cell_type": "code",
   "execution_count": null,
   "metadata": {},
   "outputs": [],
   "source": [
    "chat1='user: Hello, I am having an issue with my order #412889912'\n",
    "chat2='user: I have a problem with my order number 412889912'\n",
    "chat3='user: My order 412889912 is having an issue, I was charged 300$ when online it says 280$'\n"
   ]
  },
  {
   "cell_type": "markdown",
   "metadata": {},
   "source": [
    "# Extract order number"
   ]
  },
  {
   "cell_type": "code",
   "execution_count": null,
   "metadata": {},
   "outputs": [],
   "source": [
    "print(extract_pattern(\"order [^\\d]*(\\d*)\",chat1))\n",
    "print(extract_pattern(\"order [^\\d]*(\\d*)\",chat2))\n",
    "print(extract_pattern(\"order [^\\d]*(\\d*)\",chat3))"
   ]
  },
  {
   "cell_type": "markdown",
   "metadata": {},
   "source": [
    "# Define a function to extract personal information using the Wikipedia format. Store the Information in a Dictionary"
   ]
  },
  {
   "cell_type": "code",
   "execution_count": null,
   "metadata": {},
   "outputs": [],
   "source": [
    "age_pattern = \"age (\\d+)\"\n",
    "name_pattern = \"Born(.*)\" \n",
    "birth_place_pattern = \"Born.*\\n.*\\n(.*)\"\n",
    "birth_date_pattern = \"Born.*\\n(.*)\\(age\"\n",
    "\n",
    "def extract_information(text):\n",
    "    name = extract_pattern(name_pattern,text)\n",
    "    age = extract_pattern(age_pattern,text)\n",
    "    birth_date = extract_pattern(birth_date_pattern,text)\n",
    "    birth_place = extract_pattern(birth_place_pattern,text) \n",
    "    \n",
    "    return {\n",
    "        'Name': name.strip(),\n",
    "        'Age': int(age),\n",
    "        'Date of birth': birth_date.strip(),\n",
    "        'Place of birth': birth_place.strip()\n",
    "    }\n",
    "    "
   ]
  },
  {
   "cell_type": "markdown",
   "metadata": {},
   "source": [
    "# Extract Information on Elon Musk"
   ]
  },
  {
   "cell_type": "code",
   "execution_count": null,
   "metadata": {},
   "outputs": [],
   "source": [
    "text1='''\n",
    "Born\tElon Reeve Musk\n",
    "June 28, 1971 (age 50)\n",
    "Pretoria, Transvaal, South Africa\n",
    "Citizenship\t\n",
    "South Africa (1971–present)\n",
    "Canada (1971–present)\n",
    "United States (2002–present)\n",
    "Education\tUniversity of Pennsylvania (BS, BA)\n",
    "Title\t\n",
    "Founder, CEO and Chief Engineer of SpaceX\n",
    "CEO and product architect of Tesla, Inc.\n",
    "Founder of The Boring Company and X.com (now part of PayPal)\n",
    "Co-founder of Neuralink, OpenAI, and Zip2\n",
    "Spouse(s)\t\n",
    "Justine Wilson\n",
    "​\n",
    "​(m. 2000; div. 2008)​\n",
    "Talulah Riley\n",
    "​\n",
    "​(m. 2010; div. 2012)​\n",
    "​\n",
    "​(m. 2013; div. 2016)\n",
    "'''"
   ]
  },
  {
   "cell_type": "code",
   "execution_count": null,
   "metadata": {},
   "outputs": [],
   "source": [
    "extract_information(text1)"
   ]
  },
  {
   "cell_type": "markdown",
   "metadata": {},
   "source": [
    "# Extract Information on Aliko Dangote"
   ]
  },
  {
   "cell_type": "code",
   "execution_count": null,
   "metadata": {},
   "outputs": [],
   "source": [
    "text2='''\n",
    "Born\tAliko Dangote\n",
    "10 April 1957 (age 67)\n",
    "Kano, British Nigeria\n",
    "Education\tGovernment College, Birnin Kudu\n",
    "Alma mater\tAl-Azhar University\n",
    "Occupations\t\n",
    "Businessmanindustrialist\n",
    "Years active\t1977–present\n",
    "Spouses\t\n",
    "Zainab Dangote\n",
    "​\n",
    "​(m. 1977, divorced)​\n",
    "Mariya Muhammad Rufai\n",
    "​\n",
    "​(divorced)​\n",
    "Children\t4, including Halima\n",
    "Relatives\t\n",
    "Alhassan Dantata (great-grandfather)\n",
    "Sanusi Dantata (grandfather)\n",
    "Aminu Dantata (grand-uncle)\n",
    "Sani Dangote (brother)\n",
    "'''"
   ]
  },
  {
   "cell_type": "code",
   "execution_count": null,
   "metadata": {},
   "outputs": [],
   "source": [
    "extract_information(text2)"
   ]
  },
  {
   "cell_type": "markdown",
   "metadata": {},
   "source": [
    "# Extract information on Mukesh Ambani"
   ]
  },
  {
   "cell_type": "code",
   "execution_count": null,
   "metadata": {},
   "outputs": [],
   "source": [
    "text3 = '''\n",
    "Born\tMukesh Dhirubhai Ambani\n",
    "19 April 1957 (age 64)\n",
    "Aden, Colony of Aden\n",
    "(present-day Yemen)[1][2]\n",
    "Nationality\tIndian\n",
    "Alma mater\t\n",
    "St. Xavier's College, Mumbai\n",
    "Institute of Chemical Technology (B.E.)\n",
    "Stanford University (drop-out)\n",
    "Occupation\tChairman and MD, Reliance Industries\n",
    "Spouse(s)\tNita Ambani ​(m. 1985)​[3]\n",
    "Children\t3\n",
    "Parent(s)\t\n",
    "Dhirubhai Ambani (father)\n",
    "Kokilaben Ambani (mother)\n",
    "Relatives\tAnil Ambani (brother)\n",
    "Tina Ambani (sister-in-law)\n",
    "'''"
   ]
  },
  {
   "cell_type": "code",
   "execution_count": null,
   "metadata": {},
   "outputs": [],
   "source": [
    "extract_information(text3)"
   ]
  },
  {
   "cell_type": "markdown",
   "metadata": {},
   "source": [
    "# Extract Information on Jeff Bezos"
   ]
  },
  {
   "cell_type": "code",
   "execution_count": null,
   "metadata": {},
   "outputs": [],
   "source": [
    "text4 = '''\n",
    "Born\tJeffrey Preston Jorgensen\n",
    "January 12, 1964 (age 60)\n",
    "Albuquerque, New Mexico, U.S.\n",
    "Education\tPrinceton University (BSE)\n",
    "Occupations\t\n",
    "Businessmanmedia proprietorinvestor\n",
    "Known for\tFounding Amazon\n",
    "Title\t\n",
    "Founder and executive chairman of Amazon\n",
    "Founder of Blue Origin\n",
    "Owner of The Washington Post\n",
    "Founder of Bezos Expeditions\n",
    "Executive Chair of Bezos Earth Fund\n",
    "Founder of Bezos Academy\n",
    "Spouse\tMacKenzie Scott\n",
    "​\n",
    "​(m. 1993; div. 2019)​\n",
    "Partner(s)\tLauren Sánchez\n",
    "(2019–present; engaged)\n",
    "Children\t4\n",
    "Parents\t\n",
    "Jackie Bezos (mother)\n",
    "Ted Jorgensen (father)\n",
    "Miguel Bezos (stepfather)\n",
    "Relatives\tMark Bezos (half-brother)[1]\n",
    "'''"
   ]
  },
  {
   "cell_type": "code",
   "execution_count": null,
   "metadata": {},
   "outputs": [],
   "source": [
    "extract_information(text4)"
   ]
  },
  {
   "cell_type": "code",
   "execution_count": null,
   "metadata": {},
   "outputs": [],
   "source": []
  }
 ],
 "metadata": {
  "kernelspec": {
   "display_name": "Python (system)",
   "language": "python",
   "name": "system_python"
  },
  "language_info": {
   "codemirror_mode": {
    "name": "ipython",
    "version": 3
   },
   "file_extension": ".py",
   "mimetype": "text/x-python",
   "name": "python",
   "nbconvert_exporter": "python",
   "pygments_lexer": "ipython3",
   "version": "3.12.3"
  }
 },
 "nbformat": 4,
 "nbformat_minor": 2
}
