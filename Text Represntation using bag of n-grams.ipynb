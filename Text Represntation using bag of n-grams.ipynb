{
 "cells": [
  {
   "cell_type": "code",
   "execution_count": 1,
   "metadata": {},
   "outputs": [],
   "source": [
    "from sklearn.feature_extraction.text import CountVectorizer\n",
    "import spacy\n",
    "\n"
   ]
  },
  {
   "cell_type": "code",
   "execution_count": 2,
   "metadata": {},
   "outputs": [
    {
     "data": {
      "text/plain": [
       "{'dennis': 1, 'is': 3, 'drumming': 2, 'at': 0, 'the': 4, 'wedding': 5}"
      ]
     },
     "execution_count": 2,
     "metadata": {},
     "output_type": "execute_result"
    }
   ],
   "source": [
    "#default ngram_range=(1,1); bag of words\n",
    "vec = CountVectorizer()\n",
    "text = [\"Dennis is drumming at the wedding\"]\n",
    "vec.fit(text)\n",
    "vec.vocabulary_"
   ]
  },
  {
   "cell_type": "code",
   "execution_count": 3,
   "metadata": {},
   "outputs": [
    {
     "data": {
      "text/plain": [
       "{'dennis is': 1,\n",
       " 'is drumming': 3,\n",
       " 'drumming at': 2,\n",
       " 'at the': 0,\n",
       " 'the wedding': 4}"
      ]
     },
     "execution_count": 3,
     "metadata": {},
     "output_type": "execute_result"
    }
   ],
   "source": [
    "#using bigrams\n",
    "vec = CountVectorizer(ngram_range=(2,2))\n",
    "text = [\"Dennis is drumming at the wedding\"]\n",
    "vec.fit(text)\n",
    "vec.vocabulary_"
   ]
  },
  {
   "cell_type": "code",
   "execution_count": 4,
   "metadata": {},
   "outputs": [
    {
     "data": {
      "text/plain": [
       "{'dennis': 2,\n",
       " 'is': 6,\n",
       " 'drumming': 4,\n",
       " 'at': 0,\n",
       " 'the': 8,\n",
       " 'wedding': 10,\n",
       " 'dennis is': 3,\n",
       " 'is drumming': 7,\n",
       " 'drumming at': 5,\n",
       " 'at the': 1,\n",
       " 'the wedding': 9}"
      ]
     },
     "execution_count": 4,
     "metadata": {},
     "output_type": "execute_result"
    }
   ],
   "source": [
    "#combining bag of words(unigram) with bigram\n",
    "vec = CountVectorizer(ngram_range=(1,2))\n",
    "text = [\"Dennis is drumming at the wedding\"]\n",
    "vec.fit(text)\n",
    "vec.vocabulary_"
   ]
  },
  {
   "cell_type": "code",
   "execution_count": 5,
   "metadata": {},
   "outputs": [
    {
     "data": {
      "text/plain": [
       "{'dennis': 3,\n",
       " 'is': 9,\n",
       " 'drumming': 6,\n",
       " 'at': 0,\n",
       " 'the': 12,\n",
       " 'wedding': 14,\n",
       " 'dennis is': 4,\n",
       " 'is drumming': 10,\n",
       " 'drumming at': 7,\n",
       " 'at the': 1,\n",
       " 'the wedding': 13,\n",
       " 'dennis is drumming': 5,\n",
       " 'is drumming at': 11,\n",
       " 'drumming at the': 8,\n",
       " 'at the wedding': 2}"
      ]
     },
     "execution_count": 5,
     "metadata": {},
     "output_type": "execute_result"
    }
   ],
   "source": [
    "#combining bag of words(unigram) with trigram\n",
    "vec = CountVectorizer(ngram_range=(1,3))\n",
    "text = [\"Dennis is drumming at the wedding\"]\n",
    "vec.fit(text)\n",
    "vec.vocabulary_"
   ]
  },
  {
   "cell_type": "code",
   "execution_count": 6,
   "metadata": {},
   "outputs": [],
   "source": [
    "doc = ['David drank wine',\n",
    "      'Mike is young',\n",
    "      'Phillip is drinking wine']"
   ]
  },
  {
   "cell_type": "code",
   "execution_count": 7,
   "metadata": {},
   "outputs": [],
   "source": [
    "#remove stop words and apply lemmatization\n",
    "nlp = spacy.load('en_core_web_sm')\n",
    "def preprocess(text):\n",
    "    non_stopwords = []\n",
    "    doc = nlp(text)\n",
    "    for token in doc:\n",
    "        if token.is_stop or token.is_punct:\n",
    "            continue\n",
    "        non_stopwords.append(token.lemma_)\n",
    "    return \" \".join(non_stopwords)\n",
    "    "
   ]
  },
  {
   "cell_type": "code",
   "execution_count": 8,
   "metadata": {},
   "outputs": [
    {
     "data": {
      "text/plain": [
       "'David drink wine'"
      ]
     },
     "execution_count": 8,
     "metadata": {},
     "output_type": "execute_result"
    }
   ],
   "source": [
    "preprocess('David drank wine')"
   ]
  },
  {
   "cell_type": "code",
   "execution_count": 9,
   "metadata": {},
   "outputs": [
    {
     "data": {
      "text/plain": [
       "'Mike young'"
      ]
     },
     "execution_count": 9,
     "metadata": {},
     "output_type": "execute_result"
    }
   ],
   "source": [
    "preprocess('Mike is young')"
   ]
  },
  {
   "cell_type": "code",
   "execution_count": 10,
   "metadata": {},
   "outputs": [
    {
     "data": {
      "text/plain": [
       "'phillip drink wine'"
      ]
     },
     "execution_count": 10,
     "metadata": {},
     "output_type": "execute_result"
    }
   ],
   "source": [
    "preprocess('Phillip is drinking wine')"
   ]
  },
  {
   "cell_type": "code",
   "execution_count": 11,
   "metadata": {},
   "outputs": [
    {
     "data": {
      "text/plain": [
       "['David drink wine', 'Mike young', 'phillip drink wine']"
      ]
     },
     "execution_count": 11,
     "metadata": {},
     "output_type": "execute_result"
    }
   ],
   "source": [
    "#apply preprocessing to the entire list\n",
    "doc_processed = [preprocess(text) for text in doc]\n",
    "doc_processed"
   ]
  },
  {
   "cell_type": "code",
   "execution_count": 12,
   "metadata": {},
   "outputs": [
    {
     "data": {
      "text/plain": [
       "{'david': 0,\n",
       " 'drink': 2,\n",
       " 'wine': 8,\n",
       " 'david drink': 1,\n",
       " 'drink wine': 3,\n",
       " 'mike': 4,\n",
       " 'young': 9,\n",
       " 'mike young': 5,\n",
       " 'phillip': 6,\n",
       " 'phillip drink': 7}"
      ]
     },
     "execution_count": 12,
     "metadata": {},
     "output_type": "execute_result"
    }
   ],
   "source": [
    "#apply bag of n_grams (bigram) to this doc\n",
    "v =  CountVectorizer(ngram_range=(1,2))\n",
    "v.fit(doc_processed)\n",
    "v.vocabulary_"
   ]
  },
  {
   "cell_type": "code",
   "execution_count": 13,
   "metadata": {},
   "outputs": [
    {
     "data": {
      "text/plain": [
       "<1x10 sparse matrix of type '<class 'numpy.int64'>'\n",
       "\twith 5 stored elements in Compressed Sparse Row format>"
      ]
     },
     "execution_count": 13,
     "metadata": {},
     "output_type": "execute_result"
    }
   ],
   "source": [
    "#convert text to vector using n-gram model\n",
    "v.transform(['David drink wine'])"
   ]
  },
  {
   "cell_type": "code",
   "execution_count": 14,
   "metadata": {},
   "outputs": [
    {
     "data": {
      "text/plain": [
       "array([[1, 1, 1, 1, 0, 0, 0, 0, 1, 0]], dtype=int64)"
      ]
     },
     "execution_count": 14,
     "metadata": {},
     "output_type": "execute_result"
    }
   ],
   "source": [
    "v.transform(['David drink wine']).toarray()"
   ]
  },
  {
   "cell_type": "code",
   "execution_count": 15,
   "metadata": {},
   "outputs": [
    {
     "data": {
      "text/plain": [
       "[array([[1, 1, 1, 1, 0, 0, 0, 0, 1, 0]], dtype=int64),\n",
       " array([[0, 0, 0, 0, 1, 1, 0, 0, 0, 1]], dtype=int64),\n",
       " array([[0, 0, 1, 1, 0, 0, 1, 1, 1, 0]], dtype=int64)]"
      ]
     },
     "execution_count": 15,
     "metadata": {},
     "output_type": "execute_result"
    }
   ],
   "source": [
    "doc_vector = [v.transform([text]).toarray() for text in doc_processed]\n",
    "doc_vector"
   ]
  },
  {
   "cell_type": "code",
   "execution_count": null,
   "metadata": {},
   "outputs": [],
   "source": []
  }
 ],
 "metadata": {
  "kernelspec": {
   "display_name": "Python 3.9",
   "language": "python",
   "name": "python3.9"
  },
  "language_info": {
   "codemirror_mode": {
    "name": "ipython",
    "version": 3
   },
   "file_extension": ".py",
   "mimetype": "text/x-python",
   "name": "python",
   "nbconvert_exporter": "python",
   "pygments_lexer": "ipython3",
   "version": "3.9.7"
  }
 },
 "nbformat": 4,
 "nbformat_minor": 2
}
