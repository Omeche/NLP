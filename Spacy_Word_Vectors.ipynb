{
 "cells": [
  {
   "cell_type": "code",
   "execution_count": 1,
   "metadata": {},
   "outputs": [
    {
     "name": "stdout",
     "output_type": "stream",
     "text": [
      "tilapia vector: True oov: False\n",
      "whale vector: True oov: False\n",
      "octopus vector: True oov: False\n",
      "dolphin vector: True oov: False\n",
      "crab vector: True oov: False\n",
      "america vector: True oov: False\n",
      "dooboo vector: False oov: True\n"
     ]
    }
   ],
   "source": [
    "import spacy\n",
    "\n",
    "nlp = spacy.load(\"en_core_web_lg\")\n",
    "doc = nlp(\"tilapia whale octopus dolphin crab america dooboo\")\n",
    "\n",
    "for token in doc:\n",
    "    print(token.text, \"vector:\",token.has_vector, \"oov:\",token.is_oov)"
   ]
  },
  {
   "cell_type": "code",
   "execution_count": 2,
   "metadata": {},
   "outputs": [],
   "source": [
    "#base word\n",
    "base_word = nlp(\"tilapia\")\n"
   ]
  },
  {
   "cell_type": "code",
   "execution_count": 3,
   "metadata": {
    "scrolled": true
   },
   "outputs": [
    {
     "name": "stdout",
     "output_type": "stream",
     "text": [
      "tilapia <--> tilapia: 0.9999999424243338\n",
      "whale <--> tilapia: 0.23893027830280528\n",
      "octopus <--> tilapia: 0.3944475312154511\n",
      "dolphin <--> tilapia: 0.3074288197702018\n",
      "crab <--> tilapia: 0.5441696742156025\n",
      "america <--> tilapia: 0.1156561732507778\n",
      "dooboo <--> tilapia: 0.0\n"
     ]
    },
    {
     "name": "stderr",
     "output_type": "stream",
     "text": [
      "C:\\Users\\HP\\AppData\\Local\\Temp\\ipykernel_12620\\3572035673.py:3: UserWarning: [W008] Evaluating Token.similarity based on empty vectors.\n",
      "  print(f\"{token.text} <--> {base_word.text}: {token.similarity(base_word)}\")\n"
     ]
    }
   ],
   "source": [
    "#compare the words in doc with the base word to determibe their similarity\n",
    "for token in doc:\n",
    "    print(f\"{token.text} <--> {base_word.text}: {token.similarity(base_word)}\")"
   ]
  },
  {
   "cell_type": "code",
   "execution_count": 6,
   "metadata": {},
   "outputs": [
    {
     "name": "stdout",
     "output_type": "stream",
     "text": [
      "[[0.78808445]]\n"
     ]
    }
   ],
   "source": [
    "#we want to compare the vector of the word queen and the result of (king-man+woman) which can also imply queen\n",
    "king = nlp.vocab['king'].vector\n",
    "man= nlp.vocab['man'].vector\n",
    "queen = nlp.vocab['queen'].vector\n",
    "woman = nlp.vocab['woman'].vector\n",
    "\n",
    "result = king - man + woman\n",
    "\n",
    "from sklearn.metrics.pairwise import cosine_similarity\n",
    "print(cosine_similarity([result], [queen]))"
   ]
  },
  {
   "cell_type": "code",
   "execution_count": null,
   "metadata": {},
   "outputs": [],
   "source": []
  }
 ],
 "metadata": {
  "kernelspec": {
   "display_name": "Python 3.9",
   "language": "python",
   "name": "python3.9"
  },
  "language_info": {
   "codemirror_mode": {
    "name": "ipython",
    "version": 3
   },
   "file_extension": ".py",
   "mimetype": "text/x-python",
   "name": "python",
   "nbconvert_exporter": "python",
   "pygments_lexer": "ipython3",
   "version": "3.9.7"
  }
 },
 "nbformat": 4,
 "nbformat_minor": 2
}
