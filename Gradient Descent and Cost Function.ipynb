{
 "cells": [
  {
   "cell_type": "code",
   "execution_count": null,
   "metadata": {},
   "outputs": [],
   "source": [
    "import numpy as np\n",
    "def gradient_descent(x,y):\n",
    "    mcurr = bcurr = 0\n",
    "    iteration = 1000\n",
    "    n = len(x)\n",
    "    learning_rate = 0.08\n",
    "    for i in range(iteration):\n",
    "        ypred = mcurr*x+bcurr\n",
    "        cost = (1/n)*sum([val**2 for val in (y-ypred)])\n",
    "        md = -(2/n)*sum(x*(y-ypred))\n",
    "        bd = -(2/n)*sum(y-ypred)\n",
    "        mcurr = mcurr - learning_rate*md\n",
    "        bcurr = bcurr - learning_rate*bd\n",
    "        print(\"m:{}, b:{},cost:{},iteration:{}\".format(mcurr,bcurr,cost,i))\n",
    "        \n",
    "x = np.array([1,2,3,4,5])\n",
    "y= np.array([5,7,9,11,13])\n",
    "gradient_descent(x,y)"
   ]
  },
  {
   "cell_type": "code",
   "execution_count": null,
   "metadata": {},
   "outputs": [],
   "source": [
    "import pandas as pd\n",
    "import numpy as np\n",
    "from sklearn.linear_model import LinearRegression\n",
    "df = pd.read_csv('C:\\\\Users\\HP\\\\Downloads\\\\test_scores.csv')\n",
    "df.head()"
   ]
  },
  {
   "cell_type": "code",
   "execution_count": null,
   "metadata": {},
   "outputs": [],
   "source": [
    "df.shape"
   ]
  },
  {
   "cell_type": "code",
   "execution_count": null,
   "metadata": {},
   "outputs": [],
   "source": [
    "df.info()"
   ]
  },
  {
   "cell_type": "code",
   "execution_count": null,
   "metadata": {},
   "outputs": [],
   "source": [
    "#let's create the gradient descent algorithm\n",
    "import math\n",
    "def gradient_descent(x,y):\n",
    "    m_curr = b_curr = 0\n",
    "    iterations = 1000000\n",
    "    n = len(x)\n",
    "    learning_rate = 0.0002\n",
    "    cost_previous = 0\n",
    "    for i in range(iterations):\n",
    "        y_pred = m_curr * x + b_curr\n",
    "        cost = (1/n) * sum([val**2 for val in (y-y_pred)])\n",
    "        md = -(2/n) * sum(x*(y-y_pred))\n",
    "        bd = -(2/n) * sum(y-y_pred)\n",
    "        m_curr = m_curr - learning_rate * md\n",
    "        b_curr = b_curr - learning_rate * bd\n",
    "        if math.isclose(cost, cost_previous, rel_tol=1e-20):\n",
    "            break\n",
    "        cost_previous = cost\n",
    "        print('m->{}, b->{}, cost->{}, iteration->{}'.format(m_curr,b_curr,cost,i))\n",
    "    return m_curr,b_curr\n",
    "if __name__ == '__main__':        \n",
    "    x = np.array(df['math'])\n",
    "    y = np.array(df['cs'])\n",
    "    gradient_descent(x,y)"
   ]
  },
  {
   "cell_type": "code",
   "execution_count": null,
   "metadata": {},
   "outputs": [],
   "source": [
    "#using linear regression model\n",
    "def linear_model():\n",
    "    reg = LinearRegression()\n",
    "    reg.fit(df[['math']],df['cs'])\n",
    "    m = reg.coef_\n",
    "    b = reg.intercept_\n",
    "    return m,b\n",
    "m_linear,b_linear = linear_model()\n",
    "print('Using Linear Regression: m-->{}, b-->{}'.format(m_linear,b_linear))\n",
    "m,b = gradient_descent(x,y)\n",
    "print('Using Gradient Descent: m-->{}, b-->{}'.format(m,b))"
   ]
  },
  {
   "cell_type": "code",
   "execution_count": null,
   "metadata": {},
   "outputs": [],
   "source": []
  }
 ],
 "metadata": {
  "kernelspec": {
   "display_name": "Python 3",
   "language": "python",
   "name": "python3"
  },
  "language_info": {
   "codemirror_mode": {
    "name": "ipython",
    "version": 3
   },
   "file_extension": ".py",
   "mimetype": "text/x-python",
   "name": "python",
   "nbconvert_exporter": "python",
   "pygments_lexer": "ipython3",
   "version": "3.7.3"
  }
 },
 "nbformat": 4,
 "nbformat_minor": 2
}
