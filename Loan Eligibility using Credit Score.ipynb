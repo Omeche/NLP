{
 "cells": [
  {
   "cell_type": "code",
   "execution_count": null,
   "metadata": {},
   "outputs": [],
   "source": [
    "#the goal of this project is to classify a person's eligibility for a loan using the credit score as a means of classification \n",
    "#import the necessary libraries\n",
    "\n",
    "import pandas as pd\n",
    "import numpy as np\n",
    "import matplotlib.pyplot as plt\n",
    "%matplotlib inline\n",
    "import seaborn as sns\n",
    "import plotly.express as px\n",
    "from sklearn.model_selection import train_test_split\n",
    "%config InlineBackend.figure_format='retina'\n",
    "\n",
    "#warnings\n",
    "import warnings\n",
    "warnings.filterwarnings('ignore')"
   ]
  },
  {
   "cell_type": "code",
   "execution_count": null,
   "metadata": {},
   "outputs": [],
   "source": [
    "#loading the dataset\n",
    "df = pd.read_csv(\"C:\\\\Users\\\\HP\\\\Downloads\\\\Credit-Score-Data\\\\Credit Score Data\\\\train.csv\")\n",
    "df.head()"
   ]
  },
  {
   "cell_type": "code",
   "execution_count": null,
   "metadata": {},
   "outputs": [],
   "source": [
    "#check the shape of the dataframe\n",
    "df.shape"
   ]
  },
  {
   "cell_type": "code",
   "execution_count": null,
   "metadata": {},
   "outputs": [],
   "source": [
    "#info on the dataframe\n",
    "df.info()"
   ]
  },
  {
   "cell_type": "code",
   "execution_count": null,
   "metadata": {},
   "outputs": [],
   "source": [
    "#check for null values\n",
    "df.isna().sum()"
   ]
  },
  {
   "cell_type": "code",
   "execution_count": null,
   "metadata": {},
   "outputs": [],
   "source": [
    "df.describe().T"
   ]
  },
  {
   "cell_type": "code",
   "execution_count": null,
   "metadata": {},
   "outputs": [],
   "source": [
    "#dropping the ID, Customer_ID and Name columns as they are not needed in training the model\n",
    "df.drop(['ID','Customer_ID','Name'],axis=1,inplace=True)\n"
   ]
  },
  {
   "cell_type": "code",
   "execution_count": null,
   "metadata": {},
   "outputs": [],
   "source": [
    "#visualize the relationship between each feature and the credit_score column\n",
    "plt.figure(figsize=(15,10))\n",
    "i = 1\n",
    "for column in df:\n",
    "    if df[column].dtypes in ('int64','float64'):\n",
    "        plt.subplot(14,2,i)\n",
    "        fig=px.box(df,\n",
    "                x='Credit_Score',\n",
    "                y=column,\n",
    "                color='Credit_Score',\n",
    "                title = \"Credit score based on \" + str(column),\n",
    "                color_discrete_map={'Poor':'Red','Standard':'Yellow','Good':'green'})\n",
    "        i += 1\n",
    "        fig.update_traces(quartilemethod='exclusive')\n",
    "        fig.show()\n",
    "#plt.show()"
   ]
  },
  {
   "cell_type": "code",
   "execution_count": null,
   "metadata": {},
   "outputs": [],
   "source": [
    "#ANALYSIS FROM THE BOXPLOT...\n",
    "\n",
    "#month has little effect\n",
    "#age has little effect\n",
    "#ssn has no effect\n",
    "#higher annual income gives a better credit score\n",
    "#higher monthly in-hand salary gives a better credit score\n",
    "#lesser number of bank accounts increases the credit score\n",
    "#lesser number of credit cards increases the credit score\n",
    "#smaller interest rates attract higher credit score\n",
    "#small number of loans increases credit score\n",
    "#shorter delays from due date gives a higher credit score\n",
    "#shorter number of delayed payments increases credit score\n",
    "#smaller changed credit limit increases credit score\n",
    "#smaller number of credit inquiries increases credit score\n",
    "#smaller outstanding debts gives better credit score\n",
    "#credit utilization ratio has no effect\n",
    "#higher history age increases credit score\n",
    "#total emi has no effect\n",
    "#more amount invested monthly translates to higher credit score\n",
    "#higher monthly balance gives more credit score"
   ]
  },
  {
   "cell_type": "code",
   "execution_count": null,
   "metadata": {},
   "outputs": [],
   "source": [
    "#drop the columns that have no effect on credit score\n",
    "df1 = df.drop(['Month','Age','SSN','Credit_Utilization_Ratio','Total_EMI_per_month'],axis=1)\n",
    "df1.head()"
   ]
  },
  {
   "cell_type": "code",
   "execution_count": null,
   "metadata": {},
   "outputs": [],
   "source": [
    "#check relationship between occupation and credit score\n",
    "df['Occupation'].unique()"
   ]
  },
  {
   "cell_type": "code",
   "execution_count": null,
   "metadata": {},
   "outputs": [],
   "source": [
    "plt.figure(figsize=(20,15))\n",
    "sns.barplot(x=df['Occupation'],y='Annual_Income',hue='Credit_Score',data=df)\n",
    "plt.xticks(rotation=90)\n",
    "plt.show()"
   ]
  },
  {
   "cell_type": "code",
   "execution_count": null,
   "metadata": {},
   "outputs": [],
   "source": [
    "#ANALYSIS OF BAR PLOT..\n",
    "\n",
    "#Annual income has an effect on credit score as we saw earlier but the occupation has no effect on credit score\n",
    "#drop the occupation column\n",
    "\n",
    "df2 = df1.drop(\"Occupation\",axis=1)"
   ]
  },
  {
   "cell_type": "code",
   "execution_count": null,
   "metadata": {},
   "outputs": [],
   "source": [
    "df2.describe(include='object')"
   ]
  },
  {
   "cell_type": "code",
   "execution_count": null,
   "metadata": {},
   "outputs": [],
   "source": [
    "df2['Type_of_Loan'].unique()"
   ]
  },
  {
   "cell_type": "code",
   "execution_count": null,
   "metadata": {},
   "outputs": [],
   "source": [
    "#drop type of loan\n",
    "df2.drop('Type_of_Loan',axis=1,inplace=True)"
   ]
  },
  {
   "cell_type": "code",
   "execution_count": null,
   "metadata": {},
   "outputs": [],
   "source": [
    "df2.Credit_Mix.unique()"
   ]
  },
  {
   "cell_type": "code",
   "execution_count": null,
   "metadata": {},
   "outputs": [],
   "source": [
    "#convert the credit mix to integer\n",
    "dummy = pd.get_dummies(df2['Credit_Mix'],drop_first=True)\n",
    "df3 = pd.concat([df2,dummy],axis=1)"
   ]
  },
  {
   "cell_type": "code",
   "execution_count": null,
   "metadata": {},
   "outputs": [],
   "source": [
    "#now drop the credit mix column\n",
    "df3.drop('Credit_Mix',axis=1,inplace=True)\n",
    "df3.head()"
   ]
  },
  {
   "cell_type": "code",
   "execution_count": null,
   "metadata": {},
   "outputs": [],
   "source": [
    "df3['Payment_of_Min_Amount'].unique()"
   ]
  },
  {
   "cell_type": "code",
   "execution_count": null,
   "metadata": {},
   "outputs": [],
   "source": [
    "pd.crosstab(df3['Payment_of_Min_Amount'],df3['Credit_Score'])"
   ]
  },
  {
   "cell_type": "code",
   "execution_count": null,
   "metadata": {},
   "outputs": [],
   "source": [
    "dummy1 = pd.get_dummies(df3['Payment_of_Min_Amount'],drop_first=True)\n",
    "df4 = pd.concat([df3,dummy1],axis=1)"
   ]
  },
  {
   "cell_type": "code",
   "execution_count": null,
   "metadata": {},
   "outputs": [],
   "source": [
    "#drop minimum payment and payment behavior\n",
    "df5 = df4.drop(['Payment_of_Min_Amount','Payment_Behaviour'],axis=1)"
   ]
  },
  {
   "cell_type": "code",
   "execution_count": null,
   "metadata": {},
   "outputs": [],
   "source": [
    "#let's see the required columns\n",
    "df5.columns"
   ]
  },
  {
   "cell_type": "code",
   "execution_count": null,
   "metadata": {},
   "outputs": [],
   "source": [
    "#remove outliers\n",
    "for column in df5:\n",
    "    if df5[column].dtypes in ('int64','float64'):\n",
    "        df5[column] = df5[column].clip(lower=df5[column].quantile(0.25),upper=df5[column].quantile(0.75))"
   ]
  },
  {
   "cell_type": "code",
   "execution_count": null,
   "metadata": {},
   "outputs": [],
   "source": [
    "#visualize for outliers\n",
    "plt.figure(figsize=(15,10))\n",
    "i = 1\n",
    "for column in df5:\n",
    "    if df5[column].dtypes in ('int64','float64'):\n",
    "        plt.subplot(6,3,i)\n",
    "        sns.boxplot(df5[column])\n",
    "        i += 1\n",
    "plt.show()\n",
    "    "
   ]
  },
  {
   "cell_type": "code",
   "execution_count": null,
   "metadata": {},
   "outputs": [],
   "source": [
    "#monthly balance and outstanding balance still has outliers\n",
    "def remove_out(df):\n",
    "    for column in df:\n",
    "        if column in ('Monthly_Balance','Outstanding_Balance'):\n",
    "            Q3 = df[column].quantile(0.75)\n",
    "            Q1 = df[column].quantile(0.25)\n",
    "            IQR = Q3 - Q1\n",
    "            lower_bound = Q1 - 1.5*IQR\n",
    "            upper_bound = Q3 + 1.5*IQR\n",
    "            df[column]=df[column].apply(lambda x: lower_bound if x<lower_bound else upper_bound if x>upper_bound else x)\n",
    "    return df"
   ]
  },
  {
   "cell_type": "code",
   "execution_count": null,
   "metadata": {},
   "outputs": [],
   "source": [
    "df6 = remove_out(df5)\n",
    "df6.head()"
   ]
  },
  {
   "cell_type": "code",
   "execution_count": null,
   "metadata": {},
   "outputs": [],
   "source": [
    "#split dataset into features and target\n",
    "X  = np.array(df6.drop('Credit_Score',axis=1))\n",
    "y  = np.array(df6['Credit_Score'])\n",
    "\n"
   ]
  },
  {
   "cell_type": "code",
   "execution_count": null,
   "metadata": {},
   "outputs": [],
   "source": [
    "#scale the x set\n",
    "from sklearn.preprocessing import StandardScaler\n",
    "sc = StandardScaler()\n",
    "X_scaled = sc.fit_transform(X)"
   ]
  },
  {
   "cell_type": "code",
   "execution_count": null,
   "metadata": {},
   "outputs": [],
   "source": [
    "#split into train and test\n",
    "X_train,X_test,y_train,y_test = train_test_split(X_scaled,y,test_size=0.2,random_state=42)"
   ]
  },
  {
   "cell_type": "code",
   "execution_count": null,
   "metadata": {},
   "outputs": [],
   "source": [
    "from sklearn.ensemble import RandomForestClassifier\n",
    "from sklearn.linear_model import LogisticRegression\n",
    "from sklearn.svm import SVC\n",
    "from sklearn.model_selection import KFold\n",
    "\n",
    "\n",
    "\n"
   ]
  },
  {
   "cell_type": "code",
   "execution_count": null,
   "metadata": {},
   "outputs": [],
   "source": [
    "lr = LogisticRegression(solver='liblinear',multi_class='auto')\n",
    "model = lr.fit(X_train,y_train)\n",
    "print(model.score(X_test,y_test))\n",
    "\n",
    "sc = SVC(gamma='auto',kernel='linear',C=10)\n",
    "mp = sc.fit(X_train,y_train)\n",
    "print(mp.score(X_test,y_test))\n",
    "\n",
    "rf = RandomForestClassifier(criterion='gini',n_estimators=5,max_depth=3)\n",
    "rfclf = rf.fit(X_train,y_train)\n",
    "print(rfclf.score(X_test,y_test))\n"
   ]
  },
  {
   "cell_type": "code",
   "execution_count": null,
   "metadata": {},
   "outputs": [],
   "source": [
    "models = {\n",
    "    'LogisticRegresion':{'model': LogisticRegression(solver='liblinear',multi_class='auto'),\n",
    "                         'params': {\n",
    "                             'C':[10,20,30]\n",
    "                             }\n",
    "                        },\n",
    "    'RandomForest':{'model':RandomForestClassifier(),\n",
    "                   'params':{'n_estimators':[10,20,30]\n",
    "                            }\n",
    "                   },\n",
    "    'SVM': {'model':SVC(gamma='auto'),\n",
    "           'params':{'kernel':['rbf','linear'],\n",
    "                    'C':[10,20,30]\n",
    "                    }\n",
    "           }\n",
    "}"
   ]
  },
  {
   "cell_type": "code",
   "execution_count": null,
   "metadata": {},
   "outputs": [],
   "source": [
    "from sklearn.model_selection import GridSearchCV\n",
    "scores = []\n",
    "for model_name,pm in models.items():\n",
    "    clf = GridSearchCV(pm['model'],pm['params'],cv=5,return_train_score=False)\n",
    "    clf.fit(df6.drop('Credit_Score',axis=1),df6.Credit_Score)\n",
    "    scores.append({'model':model_name,\n",
    "                  'best_score':clf.best_score_,\n",
    "                  'best_params':clf.best_params_\n",
    "                  }\n",
    "                 )\n",
    "df  = pd.DataFrame(scores)[['model','best_score','best_params']]\n",
    "df"
   ]
  },
  {
   "cell_type": "code",
   "execution_count": null,
   "metadata": {},
   "outputs": [],
   "source": []
  }
 ],
 "metadata": {
  "kernelspec": {
   "display_name": "Python 3",
   "language": "python",
   "name": "python3"
  },
  "language_info": {
   "codemirror_mode": {
    "name": "ipython",
    "version": 3
   },
   "file_extension": ".py",
   "mimetype": "text/x-python",
   "name": "python",
   "nbconvert_exporter": "python",
   "pygments_lexer": "ipython3",
   "version": "3.7.3"
  }
 },
 "nbformat": 4,
 "nbformat_minor": 2
}
