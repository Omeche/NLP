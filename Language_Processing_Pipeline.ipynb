{
 "cells": [
  {
   "cell_type": "code",
   "execution_count": 1,
   "metadata": {},
   "outputs": [],
   "source": [
    "import spacy"
   ]
  },
  {
   "cell_type": "code",
   "execution_count": 2,
   "metadata": {},
   "outputs": [],
   "source": [
    "nlp = spacy.blank('en')"
   ]
  },
  {
   "cell_type": "code",
   "execution_count": 3,
   "metadata": {},
   "outputs": [
    {
     "data": {
      "text/plain": [
       "[]"
      ]
     },
     "execution_count": 3,
     "metadata": {},
     "output_type": "execute_result"
    }
   ],
   "source": [
    "doc = nlp(\"Federick took out a portion of his salary to get meatpie. He is now broke\")\n",
    "\n",
    "nlp.pipe_names\n"
   ]
  },
  {
   "cell_type": "code",
   "execution_count": 4,
   "metadata": {},
   "outputs": [
    {
     "data": {
      "text/plain": [
       "['tok2vec', 'tagger', 'parser', 'attribute_ruler', 'lemmatizer', 'ner']"
      ]
     },
     "execution_count": 4,
     "metadata": {},
     "output_type": "execute_result"
    }
   ],
   "source": [
    "#add the english pipeline\n",
    "\n",
    "nlp = spacy.load('en_core_web_sm')\n",
    "doc = nlp(\"Federick took out a portion of his salary to get meatpie. He is now broke\")\n",
    "\n",
    "nlp.pipe_names\n"
   ]
  },
  {
   "cell_type": "code",
   "execution_count": 5,
   "metadata": {},
   "outputs": [
    {
     "data": {
      "text/plain": [
       "[('tok2vec', <spacy.pipeline.tok2vec.Tok2Vec at 0x1fda5efd310>),\n",
       " ('tagger', <spacy.pipeline.tagger.Tagger at 0x1fda5effe90>),\n",
       " ('parser', <spacy.pipeline.dep_parser.DependencyParser at 0x1fda6052110>),\n",
       " ('attribute_ruler',\n",
       "  <spacy.pipeline.attributeruler.AttributeRuler at 0x1fda6343b50>),\n",
       " ('lemmatizer', <spacy.lang.en.lemmatizer.EnglishLemmatizer at 0x1fda61aa410>),\n",
       " ('ner', <spacy.pipeline.ner.EntityRecognizer at 0x1fda60515b0>)]"
      ]
     },
     "execution_count": 5,
     "metadata": {},
     "output_type": "execute_result"
    }
   ],
   "source": [
    "nlp.pipeline"
   ]
  },
  {
   "cell_type": "code",
   "execution_count": 6,
   "metadata": {},
   "outputs": [
    {
     "name": "stdout",
     "output_type": "stream",
     "text": [
      "Federick | PROPN | Federick\n",
      "took | VERB | take\n",
      "out | ADP | out\n",
      "a | DET | a\n",
      "portion | NOUN | portion\n",
      "of | ADP | of\n",
      "his | PRON | his\n",
      "salary | NOUN | salary\n",
      "to | PART | to\n",
      "get | VERB | get\n",
      "meatpie | PROPN | meatpie\n",
      ". | PUNCT | .\n",
      "He | PRON | he\n",
      "is | AUX | be\n",
      "now | ADV | now\n",
      "broke | VERB | break\n"
     ]
    }
   ],
   "source": [
    "for token in doc:\n",
    "    print(token, '|', token.pos_, '|', token.lemma_)"
   ]
  },
  {
   "cell_type": "code",
   "execution_count": 7,
   "metadata": {},
   "outputs": [],
   "source": [
    "#pos gives information on the part of speech the word belongs to (tagger)\n",
    "#lemma gives information of the base word it originates from (lammer)"
   ]
  },
  {
   "cell_type": "code",
   "execution_count": 8,
   "metadata": {},
   "outputs": [
    {
     "name": "stdout",
     "output_type": "stream",
     "text": [
      "Microsft Inc | ORG | Companies, agencies, institutions, etc.\n",
      "$500 billion | MONEY | Monetary values, including unit\n"
     ]
    }
   ],
   "source": [
    "doc = nlp(\"Microsft Inc acquired an investment worth $500 billion\")\n",
    "#we can obtain the category of words using ent, and can also explain the category (named entity recognization, ner)\n",
    "\n",
    "for entity in doc.ents:\n",
    "    print(entity.text, \"|\", entity.label_, \"|\", spacy.explain(entity.label_))"
   ]
  },
  {
   "cell_type": "code",
   "execution_count": 9,
   "metadata": {},
   "outputs": [
    {
     "data": {
      "text/html": [
       "<span class=\"tex2jax_ignore\"><div class=\"entities\" style=\"line-height: 2.5; direction: ltr\">\n",
       "<mark class=\"entity\" style=\"background: #7aecec; padding: 0.45em 0.6em; margin: 0 0.25em; line-height: 1; border-radius: 0.35em;\">\n",
       "    Microsft Inc\n",
       "    <span style=\"font-size: 0.8em; font-weight: bold; line-height: 1; border-radius: 0.35em; vertical-align: middle; margin-left: 0.5rem\">ORG</span>\n",
       "</mark>\n",
       " acquired an investment worth \n",
       "<mark class=\"entity\" style=\"background: #e4e7d2; padding: 0.45em 0.6em; margin: 0 0.25em; line-height: 1; border-radius: 0.35em;\">\n",
       "    $500 billion\n",
       "    <span style=\"font-size: 0.8em; font-weight: bold; line-height: 1; border-radius: 0.35em; vertical-align: middle; margin-left: 0.5rem\">MONEY</span>\n",
       "</mark>\n",
       "</div></span>"
      ],
      "text/plain": [
       "<IPython.core.display.HTML object>"
      ]
     },
     "metadata": {},
     "output_type": "display_data"
    }
   ],
   "source": [
    "from spacy import displacy\n",
    "displacy.render(doc, style='ent')"
   ]
  },
  {
   "cell_type": "code",
   "execution_count": 10,
   "metadata": {},
   "outputs": [
    {
     "data": {
      "text/plain": [
       "['tagger']"
      ]
     },
     "execution_count": 10,
     "metadata": {},
     "output_type": "execute_result"
    }
   ],
   "source": [
    "#you can add specific components to your blank pipeline. Let's say we only want tagger component\n",
    "source_nlp = spacy.load(\"en_core_web_sm\")\n",
    "nlp = spacy.blank('en')\n",
    "nlp.add_pipe('tagger', source=source_nlp)\n",
    "nlp.pipe_names"
   ]
  },
  {
   "cell_type": "code",
   "execution_count": 23,
   "metadata": {},
   "outputs": [
    {
     "data": {
      "text/plain": [
       "'MECHATRONICS 500 LEVEL\\nMatric Fullname Week1 Week2 Week3 Week4 Week5 Week6 Week7 Week8 Week9 Week10 Week11 Week12 Week13\\nNo\\n*2020/8975 OBOH JORDAN OGHENEFEGO\\n*2020/8977 ODEY EMMANUEL OBULE\\n*2020/8994 SULOLA LAWRENCE OWOMITOLA\\n*2020/8995 OLORUNTOBA VICTOR AYOMIDEJI\\n*2020/8996 LEKWA-UZO ONYEDIKACHI NAOMI\\n*2020/9035 ADEGBOYEGA PRECIOUS OLUSEGUN\\n*2020/9051 ILORI JOSHUA AYOMIDE\\n*2020/9061 KEHINDE JOY ABIOLA\\n*2020/9081 JESUSINA TEMILOLUWA DANIEL\\n*2020/9082 OTTAILOBHEGBE SAMUEL OKHIRIA\\n*2020/9089 BLESSING GIDEON OGHENEKOME\\n*2020/9092 ODOCK NEPHI NCHOR\\n*2020/9104 EJERE BESTON OJE\\n*2020/9119 ADEBOWALE AYODEJI AUGUSTINE\\n*2020/9126 ALABI OLUWAFOLAHAN DAVID\\n*2020/9141 IFE ALPHA OLASUNKANMI\\n*2020/9142 OBA HANEEFAH OLUWATOYIN\\n*2020/9147 AYEOMONI AYOMIDE OLUMUYIWA\\n*2020/9152 OSINAIKE ONAOPEMIPO BABAFOLAYEMISI\\n*2020/9163 ERINLE DAVID OYINDAMOLA\\n*2020/9183 HARRY ISAAC JIM\\n*2020/9187 ASIWAJU OLAWALE SAMSON\\n*2020/9188 SOTONWA SAMUEL FRANKINCENSE\\n*2020/9198 SHOBAYO OLASUNKANMI ISREAL\\n*2020/9202 ANIKE EMMANUEL PROSPER\\n*2020/9207 FAJIMI KOLADE INIOLUWA\\n*2020/9216 BAKARE OLUWATOBILOBA OLUKAYODE\\n*2020/9236 SYLVESTERPAUL EBINEHITA DAVID\\n*2020/9238 ATANG DAVID JONATHAN\\n*2020/9278 EDET DARAMFON-ABASI UWEM\\n*2020/9280 OMECHE THEODORE TOCHUKWU\\n*2020/9282 KAZEEM ABDULLATEEF OLUWADEMILADE\\n*2020/9290 AKINBOLADE OLUWABUSAYO ENOCH\\n*2020/9317 ADESETE ABDUL-MALIK ADEMOLA\\n*2020/9319 ABIDOGUN SAMUEL OLADOTUN\\n*2020/9320 ADEWARA EMMANUEL FOLORUNSO\\n*2020/9326 OSHO OLUWATOBI OLUWASENI\\n*2020/9329 BABARINDE FAITH OLABISI\\n*2020/9339 ATORO-TYWO OLUWASEMILORE JOSHUA\\n*2020/9342 DADA SAMUEL MOGBEKELOLUWA\\n*2020/9348 CELESTINE EZIAMACHUKWU DAVID\\n*2020/9351 OLUBODUN TEMITAYO MARCUS\\n*2020/9361 UMOH SHEKINAH TREASURE\\n*2020/9377 OYEM ELGINA\\n*2020/9387 ADU MOYINOLUWA AUGUSTUS\\n*2020/9411 MAKHOBA EMMANUEL DANIEL\\n*2020/9414 NWABUOKU EBUKA AMADI\\n*2020/9415 AJIBADE PRAISE TITUS\\n*2020/9417 LASISI AYOMIDE EMMANUEL\\n*2020/9420 ADEBAYO PETER OPEOLUWA\\n*2020/9422 FAMADEWA OLUWAJOMILOJU ADESINA\\n*2020/9425 WATCHMAN EBIERE PRECIOUS\\n*2020/9433 AMUSAN OLUWAFEYIBUNMI OLUWATETISIMI\\n*2020/9436 MASHAT PAUL EMMANUEL\\n*2020/9469 YUSUF SOLOMON OLUMIDE\\n*2020/9477 ADERINWALE FARUQ ADEDAMOLA\\n*2020/9478 SANUSI ADEMAYOWA ADEOLUWA\\n*2020/9530 IYIADE YINYINLADE PAUL\\n*2020/9535 KELANI KHADIJAT AYOMIPO\\n*2020/9537 OSUNDERU SEMILOGO ENIOLA\\n*2020/9565 ADEDIBU AYOMIDE ADEOLA\\n*2020/9583 OKON EXCEL EKWUYO\\n*2020/9594 OGUNSOLA OREOLUWA FOLAHAN\\n*2020/9598 ODUMERU JOHN OLUWAJOBA\\n*2020/9606 IKENUA VICTOR CHIBUIKEM\\n*2020/9631 OLORUNYOMI EMMANUEL OLUWAPELUMI\\n*2020/9632 ASHIRU ALLI OWOLABI\\n*2020/9643 ADEREMI OLUWASEYI DANIEL\\n*2020/9645 OBIDIKE CHUKWUEBUKA VALENTINE\\n*2020/9648 AMADI JOSHUA CHINONYE\\n*2020/9662 EKUTTI MUKHTAR ADEWALE\\n*2020/9671 BASSEY PRINCE MAXIMUS\\n*2020/9677 OLADEINDE OLABANJI GAIUS\\n*2020/9688 CHIGBUNDU CHIBUIKE OLAMILEKAN\\n*2020/9700 IMOAGELE SAMSON OLUWAROTIMI\\n*2020/9719 OWOLABI DAVID AKANMU\\n*2020/9732 ALLIU EMMANUEL OLUWATOBI\\n*2020/9750 ADEYI OLUWANIFEMI MORAYO\\n*2020/9757 ADEAGBO PECULIAR JESUDARASIMI\\n*2020/9824 EMEKA CHISOM DAVID\\n*2020/9873 ADESINA ADEBOLA TAJUDEEN\\n*2021/10441 TIJANI IDIAT OLUWATOSIN\\n'"
      ]
     },
     "execution_count": 23,
     "metadata": {},
     "output_type": "execute_result"
    }
   ],
   "source": [
    "##extract the matric numbers of mechatronics students from the level attendance pdf document\n",
    "import pdfplumber\n",
    "with pdfplumber.open(r\"C:\\Users\\HP\\Desktop\\500 Level Attendance .pdf\") as pdf_doc:\n",
    "    text = \"\\n\".join([page.extract_text() for page in pdf_doc.pages])\n",
    "text"
   ]
  },
  {
   "cell_type": "code",
   "execution_count": 24,
   "metadata": {},
   "outputs": [
    {
     "name": "stdout",
     "output_type": "stream",
     "text": [
      "500\n",
      "2020/8975\n",
      "2020/8977\n",
      "2020/8994\n",
      "2020/8995\n",
      "2020/8996\n",
      "2020/9035\n",
      "2020/9051\n",
      "2020/9061\n",
      "2020/9081\n",
      "2020/9082\n",
      "2020/9089\n",
      "2020/9092\n",
      "2020/9104\n",
      "2020/9119\n",
      "2020/9126\n",
      "2020/9141\n",
      "2020/9142\n",
      "2020/9147\n",
      "2020/9152\n",
      "2020/9163\n",
      "2020/9183\n",
      "2020/9187\n",
      "2020/9188\n",
      "2020/9198\n",
      "2020/9202\n",
      "2020/9207\n",
      "2020/9216\n",
      "2020/9236\n",
      "2020/9238\n",
      "2020/9278\n",
      "2020/9280\n",
      "2020/9282\n",
      "2020/9290\n",
      "2020/9317\n",
      "2020/9319\n",
      "2020/9320\n",
      "2020/9326\n",
      "2020/9329\n",
      "2020/9339\n",
      "2020/9342\n",
      "2020/9348\n",
      "2020/9351\n",
      "2020/9361\n",
      "2020/9377\n",
      "2020/9387\n",
      "2020/9411\n",
      "2020/9414\n",
      "2020/9415\n",
      "2020/9417\n",
      "2020/9420\n",
      "2020/9422\n",
      "2020/9425\n",
      "2020/9433\n",
      "2020/9436\n",
      "2020/9469\n",
      "2020/9477\n",
      "2020/9478\n",
      "2020/9530\n",
      "2020/9535\n",
      "2020/9537\n",
      "2020/9565\n",
      "2020/9583\n",
      "2020/9594\n",
      "2020/9598\n",
      "2020/9606\n",
      "2020/9631\n",
      "2020/9632\n",
      "2020/9643\n",
      "2020/9645\n",
      "2020/9648\n",
      "2020/9662\n",
      "2020/9671\n",
      "2020/9677\n",
      "2020/9688\n",
      "2020/9700\n",
      "2020/9719\n",
      "2020/9732\n",
      "2020/9750\n",
      "2020/9757\n",
      "2020/9824\n",
      "2020/9873\n",
      "2021/10441\n"
     ]
    }
   ],
   "source": [
    "doc = nlp(text)\n",
    "for token in doc:\n",
    "    if token.like_num:\n",
    "        print(token.text)\n",
    "    "
   ]
  },
  {
   "cell_type": "code",
   "execution_count": null,
   "metadata": {},
   "outputs": [],
   "source": []
  }
 ],
 "metadata": {
  "kernelspec": {
   "display_name": "Python (system)",
   "language": "python",
   "name": "system_python"
  },
  "language_info": {
   "codemirror_mode": {
    "name": "ipython",
    "version": 3
   },
   "file_extension": ".py",
   "mimetype": "text/x-python",
   "name": "python",
   "nbconvert_exporter": "python",
   "pygments_lexer": "ipython3",
   "version": "3.12.3"
  }
 },
 "nbformat": 4,
 "nbformat_minor": 2
}
